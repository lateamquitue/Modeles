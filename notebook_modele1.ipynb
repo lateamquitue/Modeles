{
 "cells": [
  {
   "cell_type": "markdown",
   "metadata": {},
   "source": [
    "# Notebook pour projet de reconnaissance d'images/projet Défense\n",
    "## Création d'un premier modèle\n",
    "On choisit ici de travailler avec une API de haut niveau: Keras"
   ]
  },
  {
   "cell_type": "code",
   "execution_count": 1,
   "metadata": {},
   "outputs": [],
   "source": [
    "import tensorflow as tf\n",
    "import numpy as np\n",
    "import matplotlib.pyplot as plt\n",
    "import cv2\n",
    "import glob\n",
    "import time"
   ]
  },
  {
   "cell_type": "markdown",
   "metadata": {},
   "source": [
    "Modèle 1 : pour le moment une seule couche de convolutionnel"
   ]
  },
  {
   "cell_type": "code",
   "execution_count": null,
   "metadata": {},
   "outputs": [],
   "source": [
    "model1 = tf.keras.Sequential([\n",
    "    tf.keras.layers.Reshape(input_shape=(28,28),target_shape=(28,28,1)),  # ATTENTION AUX DIMENSIONS\n",
    "    tf.keras.layers.Conv2D(64,kernel_size=3,strides=1,padding='same'),\n",
    "    tf.keras.layers.MaxPool2D((2,2)),\n",
    "    tf.keras.layers.Dropout(0.25),\n",
    "    \n",
    "    tf.keras.layers.Flatten(),\n",
    "    tf.keras.layers.Dense(50, activation=tf.nn.sigmoid),\n",
    "    tf.keras.layers.Dense(10, activation=tf.nn.relu),\n",
    "])\n",
    "model1.summary()\n",
    "\n",
    "model1.compile(optimizer='Adam', \n",
    "             loss='sparse_categorical_crossentropy',\n",
    "             metrics=['accuracy'])"
   ]
  },
  {
   "cell_type": "markdown",
   "metadata": {},
   "source": [
    "## Chargement des données\n",
    "Il faudrait sortir cette partie du code pour que les données soient stockées ailleurs sous forme d'un tenseur"
   ]
  },
  {
   "cell_type": "code",
   "execution_count": null,
   "metadata": {},
   "outputs": [],
   "source": [
    "path_X = '' #donner le chemin des données\n",
    "path_Y = ''#donner le chemin des sorties attendues\n",
    "files_X = glob.glob(path_X)\n",
    "files_Y = glob.glob(path_Y)\n",
    "\n",
    "len_x=0\n",
    "for file in files_X:\n",
    "    x[len_x] = cv2.imread(file,0)\n",
    "    len_x=len_x+1\n",
    "x = array.array('d', x) # on transforme la liste en array de double\n",
    "\n",
    "x_train = x[0:-25,:,:]\n",
    "y_train = y[0:-25,:,:]\n",
    "\n",
    "x_test = x[-25:end,:,:]\n",
    "y_test = y[-25:end,:,:]\n",
    "\n",
    "#(x_train, y_train), (x_test, y_test)= tf.keras.datasets.fashion_mnist.load_data()\n",
    "\n",
    "minimum = x_train.min()\n",
    "maximum = x_train.max()\n",
    "\n",
    "x_train = x_train/maximum\n",
    "x_test = x_test/maximum"
   ]
  },
  {
   "cell_type": "markdown",
   "metadata": {},
   "source": [
    "## Entrainement"
   ]
  },
  {
   "cell_type": "code",
   "execution_count": null,
   "metadata": {},
   "outputs": [],
   "source": [
    "tensorboard = tf.keras.callbacks.TensorBoard(log_dir=f'./logs/defence{time.time()}')\n",
    "\n",
    "model1.fit(x_train, y_train, epochs=3, callbacks =[tensorboard] )\n",
    "model1.evaluate(x=x_test, y=y_test)"
   ]
  }
 ],
 "metadata": {
  "kernelspec": {
   "display_name": "Python 3",
   "language": "python",
   "name": "python3"
  },
  "language_info": {
   "codemirror_mode": {
    "name": "ipython",
    "version": 3
   },
   "file_extension": ".py",
   "mimetype": "text/x-python",
   "name": "python",
   "nbconvert_exporter": "python",
   "pygments_lexer": "ipython3",
   "version": "3.6.7"
  },
  "latex_envs": {
   "LaTeX_envs_menu_present": true,
   "autoclose": false,
   "autocomplete": true,
   "bibliofile": "biblio.bib",
   "cite_by": "apalike",
   "current_citInitial": 1,
   "eqLabelWithNumbers": true,
   "eqNumInitial": 1,
   "hotkeys": {
    "equation": "Ctrl-E",
    "itemize": "Ctrl-I"
   },
   "labels_anchors": false,
   "latex_user_defs": false,
   "report_style_numbering": false,
   "user_envs_cfg": false
  },
  "toc": {
   "base_numbering": 1,
   "nav_menu": {},
   "number_sections": true,
   "sideBar": true,
   "skip_h1_title": false,
   "title_cell": "Table of Contents",
   "title_sidebar": "Contents",
   "toc_cell": false,
   "toc_position": {},
   "toc_section_display": true,
   "toc_window_display": false
  }
 },
 "nbformat": 4,
 "nbformat_minor": 2
}
